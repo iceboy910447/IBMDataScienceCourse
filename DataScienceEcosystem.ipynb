{
 "cells": [
  {
   "cell_type": "markdown",
   "id": "e3f1fb0c-88ce-4372-b5ff-862808930a12",
   "metadata": {},
   "source": [
    "# Data Science Tools and Ecosystem"
   ]
  },
  {
   "cell_type": "markdown",
   "id": "b73f5f36-3817-4c38-aff7-3925136a7d2f",
   "metadata": {},
   "source": [
    "In this notebook, Data Science Tools and Ecosystem are summarized."
   ]
  },
  {
   "cell_type": "markdown",
   "id": "586ec23b-62b0-4433-86fc-78c296efc2ef",
   "metadata": {},
   "source": [
    "Objectives:\n",
    "\n",
    "- List popular languages for Data Science\n",
    "- List popular libraries for Data Science\n",
    "- List open source development tools for Data Science"
   ]
  },
  {
   "cell_type": "markdown",
   "id": "53188c7d-9371-439e-af6c-5317649ecd02",
   "metadata": {},
   "source": [
    "Some of the popular languages that Data Scientists use are:\n",
    "\n",
    "1. Python\n",
    "2. R\n",
    "3. Java\n",
    "4. C++\n",
    "5. Scala\n"
   ]
  },
  {
   "cell_type": "markdown",
   "id": "3f5191c4-26d8-431f-801e-396d01c7c5bf",
   "metadata": {},
   "source": [
    "Some of the commonly used libraries used by Data Scientists include:\n",
    "1. pandas\n",
    "2. matplotlib\n",
    "3. scikit-learn\n",
    "4. ggplot\n",
    "5. numpy"
   ]
  },
  {
   "cell_type": "markdown",
   "id": "ecabe3e6-9944-4ea3-874d-af95dbe47ead",
   "metadata": {},
   "source": [
    "| Data Science Tools |\n",
    "| --- |\n",
    "| JupyterNotebooks |\n",
    "| VSCode |\n",
    "| KNIME |"
   ]
  },
  {
   "cell_type": "markdown",
   "id": "21543cbf-5d30-40c4-b2e9-5d61274bf9c4",
   "metadata": {
    "tags": []
   },
   "source": [
    "### Below are a few examples of evaluating arithmetic expressions in Python"
   ]
  },
  {
   "cell_type": "code",
   "execution_count": 2,
   "id": "0661962d-9316-4635-8f8d-640253397325",
   "metadata": {
    "tags": []
   },
   "outputs": [
    {
     "data": {
      "text/plain": [
       "17"
      ]
     },
     "execution_count": 2,
     "metadata": {},
     "output_type": "execute_result"
    }
   ],
   "source": [
    "(3*4)+5"
   ]
  },
  {
   "cell_type": "code",
   "execution_count": 5,
   "id": "87a917f9-eed8-4327-9951-72bc5450cc1b",
   "metadata": {
    "tags": []
   },
   "outputs": [
    {
     "data": {
      "text/plain": [
       "3.3333333333333335"
      ]
     },
     "execution_count": 5,
     "metadata": {},
     "output_type": "execute_result"
    }
   ],
   "source": [
    "(200/60)\n",
    "# This will convert 200 minutes to hours by diving by 60"
   ]
  },
  {
   "cell_type": "markdown",
   "id": "cca16d08-8f8d-40ea-8b5f-a7ae3da0d372",
   "metadata": {},
   "source": [
    "## Author \n",
    "Jonas Ziegler"
   ]
  },
  {
   "cell_type": "code",
   "execution_count": null,
   "id": "bb245964-11a1-49b4-9c62-0b779327468e",
   "metadata": {},
   "outputs": [],
   "source": []
  }
 ],
 "metadata": {
  "kernelspec": {
   "display_name": "Python",
   "language": "python",
   "name": "conda-env-python-py"
  },
  "language_info": {
   "codemirror_mode": {
    "name": "ipython",
    "version": 3
   },
   "file_extension": ".py",
   "mimetype": "text/x-python",
   "name": "python",
   "nbconvert_exporter": "python",
   "pygments_lexer": "ipython3",
   "version": "3.7.12"
  }
 },
 "nbformat": 4,
 "nbformat_minor": 5
}
